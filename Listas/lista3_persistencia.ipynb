{
  "nbformat": 4,
  "nbformat_minor": 0,
  "metadata": {
    "colab": {
      "provenance": []
    },
    "kernelspec": {
      "name": "python3",
      "display_name": "Python 3"
    },
    "language_info": {
      "name": "python"
    }
  },
  "cells": [
    {
      "cell_type": "code",
      "source": [
        "# 1. Scraping de Websites com BeautifulSoup\n",
        "\n",
        "from bs4 import BeautifulSoup\n",
        "import requests\n",
        "import os\n",
        "\n",
        "# Conexão com a página e extração do título\n",
        "response = requests.get(\"https://quotes.toscrape.com/\")\n",
        "doc = BeautifulSoup(response.content, \"html.parser\")\n",
        "title = doc.title.string\n",
        "\n",
        "print(title)\n",
        "\n",
        "\n",
        "# Salve o conteúdo da variável doc em um novo arquivo input.html\n",
        "if not os.path.exists(\"input.html\"):\n",
        "    with open(\"input.html\", \"w\", encoding=\"utf-8\") as file:\n",
        "        file.write(str(doc))\n",
        "\n",
        "# Leitura de arquivo HTML local\n",
        "with open(\"./input.html\", encoding=\"utf-8\") as file:\n",
        "    doc = BeautifulSoup(file, \"html.parser\")\n",
        "\n",
        "# Seleção de links e imagens com extensão .png\n",
        "links = doc.select(\"a[href]\")\n",
        "print(links)\n",
        "pngs = doc.select(\"img[src$='.png']\")\n",
        "print(pngs)\n",
        "\n",
        "# Seleção do primeiro elemento com a classe 'masthead'\n",
        "masthead = doc.select_one(\"div.masthead\")\n",
        "\n",
        "# Seleção de links de resultados\n",
        "result_links = doc.select(\"h3.r > a\")\n",
        "print(result_links)\n",
        "\n",
        "# Exemplo de impressão do título\n",
        "print(\"Título:\", title)\n",
        "print(\"Links:\", links)"
      ],
      "metadata": {
        "colab": {
          "base_uri": "https://localhost:8080/"
        },
        "id": "OvvBGEHaj7I9",
        "outputId": "596f3ca0-d0f6-4c76-a582-4d187ab51e8f"
      },
      "execution_count": 10,
      "outputs": [
        {
          "output_type": "stream",
          "name": "stdout",
          "text": [
            "Quotes to Scrape\n",
            "[<a href=\"/\" style=\"text-decoration: none\">Quotes to Scrape</a>, <a href=\"/login\">Login</a>, <a href=\"/author/Albert-Einstein\">(about)</a>, <a class=\"tag\" href=\"/tag/change/page/1/\">change</a>, <a class=\"tag\" href=\"/tag/deep-thoughts/page/1/\">deep-thoughts</a>, <a class=\"tag\" href=\"/tag/thinking/page/1/\">thinking</a>, <a class=\"tag\" href=\"/tag/world/page/1/\">world</a>, <a href=\"/author/J-K-Rowling\">(about)</a>, <a class=\"tag\" href=\"/tag/abilities/page/1/\">abilities</a>, <a class=\"tag\" href=\"/tag/choices/page/1/\">choices</a>, <a href=\"/author/Albert-Einstein\">(about)</a>, <a class=\"tag\" href=\"/tag/inspirational/page/1/\">inspirational</a>, <a class=\"tag\" href=\"/tag/life/page/1/\">life</a>, <a class=\"tag\" href=\"/tag/live/page/1/\">live</a>, <a class=\"tag\" href=\"/tag/miracle/page/1/\">miracle</a>, <a class=\"tag\" href=\"/tag/miracles/page/1/\">miracles</a>, <a href=\"/author/Jane-Austen\">(about)</a>, <a class=\"tag\" href=\"/tag/aliteracy/page/1/\">aliteracy</a>, <a class=\"tag\" href=\"/tag/books/page/1/\">books</a>, <a class=\"tag\" href=\"/tag/classic/page/1/\">classic</a>, <a class=\"tag\" href=\"/tag/humor/page/1/\">humor</a>, <a href=\"/author/Marilyn-Monroe\">(about)</a>, <a class=\"tag\" href=\"/tag/be-yourself/page/1/\">be-yourself</a>, <a class=\"tag\" href=\"/tag/inspirational/page/1/\">inspirational</a>, <a href=\"/author/Albert-Einstein\">(about)</a>, <a class=\"tag\" href=\"/tag/adulthood/page/1/\">adulthood</a>, <a class=\"tag\" href=\"/tag/success/page/1/\">success</a>, <a class=\"tag\" href=\"/tag/value/page/1/\">value</a>, <a href=\"/author/Andre-Gide\">(about)</a>, <a class=\"tag\" href=\"/tag/life/page/1/\">life</a>, <a class=\"tag\" href=\"/tag/love/page/1/\">love</a>, <a href=\"/author/Thomas-A-Edison\">(about)</a>, <a class=\"tag\" href=\"/tag/edison/page/1/\">edison</a>, <a class=\"tag\" href=\"/tag/failure/page/1/\">failure</a>, <a class=\"tag\" href=\"/tag/inspirational/page/1/\">inspirational</a>, <a class=\"tag\" href=\"/tag/paraphrased/page/1/\">paraphrased</a>, <a href=\"/author/Eleanor-Roosevelt\">(about)</a>, <a class=\"tag\" href=\"/tag/misattributed-eleanor-roosevelt/page/1/\">misattributed-eleanor-roosevelt</a>, <a href=\"/author/Steve-Martin\">(about)</a>, <a class=\"tag\" href=\"/tag/humor/page/1/\">humor</a>, <a class=\"tag\" href=\"/tag/obvious/page/1/\">obvious</a>, <a class=\"tag\" href=\"/tag/simile/page/1/\">simile</a>, <a href=\"/page/2/\">Next <span aria-hidden=\"true\">→</span></a>, <a class=\"tag\" href=\"/tag/love/\" style=\"font-size: 28px\">love</a>, <a class=\"tag\" href=\"/tag/inspirational/\" style=\"font-size: 26px\">inspirational</a>, <a class=\"tag\" href=\"/tag/life/\" style=\"font-size: 26px\">life</a>, <a class=\"tag\" href=\"/tag/humor/\" style=\"font-size: 24px\">humor</a>, <a class=\"tag\" href=\"/tag/books/\" style=\"font-size: 22px\">books</a>, <a class=\"tag\" href=\"/tag/reading/\" style=\"font-size: 14px\">reading</a>, <a class=\"tag\" href=\"/tag/friendship/\" style=\"font-size: 10px\">friendship</a>, <a class=\"tag\" href=\"/tag/friends/\" style=\"font-size: 8px\">friends</a>, <a class=\"tag\" href=\"/tag/truth/\" style=\"font-size: 8px\">truth</a>, <a class=\"tag\" href=\"/tag/simile/\" style=\"font-size: 6px\">simile</a>, <a href=\"https://www.goodreads.com/quotes\">GoodReads.com</a>, <a class=\"zyte\" href=\"https://www.zyte.com\">Zyte</a>]\n",
            "[]\n",
            "[]\n",
            "Título: Quotes to Scrape\n",
            "Links: [<a href=\"/\" style=\"text-decoration: none\">Quotes to Scrape</a>, <a href=\"/login\">Login</a>, <a href=\"/author/Albert-Einstein\">(about)</a>, <a class=\"tag\" href=\"/tag/change/page/1/\">change</a>, <a class=\"tag\" href=\"/tag/deep-thoughts/page/1/\">deep-thoughts</a>, <a class=\"tag\" href=\"/tag/thinking/page/1/\">thinking</a>, <a class=\"tag\" href=\"/tag/world/page/1/\">world</a>, <a href=\"/author/J-K-Rowling\">(about)</a>, <a class=\"tag\" href=\"/tag/abilities/page/1/\">abilities</a>, <a class=\"tag\" href=\"/tag/choices/page/1/\">choices</a>, <a href=\"/author/Albert-Einstein\">(about)</a>, <a class=\"tag\" href=\"/tag/inspirational/page/1/\">inspirational</a>, <a class=\"tag\" href=\"/tag/life/page/1/\">life</a>, <a class=\"tag\" href=\"/tag/live/page/1/\">live</a>, <a class=\"tag\" href=\"/tag/miracle/page/1/\">miracle</a>, <a class=\"tag\" href=\"/tag/miracles/page/1/\">miracles</a>, <a href=\"/author/Jane-Austen\">(about)</a>, <a class=\"tag\" href=\"/tag/aliteracy/page/1/\">aliteracy</a>, <a class=\"tag\" href=\"/tag/books/page/1/\">books</a>, <a class=\"tag\" href=\"/tag/classic/page/1/\">classic</a>, <a class=\"tag\" href=\"/tag/humor/page/1/\">humor</a>, <a href=\"/author/Marilyn-Monroe\">(about)</a>, <a class=\"tag\" href=\"/tag/be-yourself/page/1/\">be-yourself</a>, <a class=\"tag\" href=\"/tag/inspirational/page/1/\">inspirational</a>, <a href=\"/author/Albert-Einstein\">(about)</a>, <a class=\"tag\" href=\"/tag/adulthood/page/1/\">adulthood</a>, <a class=\"tag\" href=\"/tag/success/page/1/\">success</a>, <a class=\"tag\" href=\"/tag/value/page/1/\">value</a>, <a href=\"/author/Andre-Gide\">(about)</a>, <a class=\"tag\" href=\"/tag/life/page/1/\">life</a>, <a class=\"tag\" href=\"/tag/love/page/1/\">love</a>, <a href=\"/author/Thomas-A-Edison\">(about)</a>, <a class=\"tag\" href=\"/tag/edison/page/1/\">edison</a>, <a class=\"tag\" href=\"/tag/failure/page/1/\">failure</a>, <a class=\"tag\" href=\"/tag/inspirational/page/1/\">inspirational</a>, <a class=\"tag\" href=\"/tag/paraphrased/page/1/\">paraphrased</a>, <a href=\"/author/Eleanor-Roosevelt\">(about)</a>, <a class=\"tag\" href=\"/tag/misattributed-eleanor-roosevelt/page/1/\">misattributed-eleanor-roosevelt</a>, <a href=\"/author/Steve-Martin\">(about)</a>, <a class=\"tag\" href=\"/tag/humor/page/1/\">humor</a>, <a class=\"tag\" href=\"/tag/obvious/page/1/\">obvious</a>, <a class=\"tag\" href=\"/tag/simile/page/1/\">simile</a>, <a href=\"/page/2/\">Next <span aria-hidden=\"true\">→</span></a>, <a class=\"tag\" href=\"/tag/love/\" style=\"font-size: 28px\">love</a>, <a class=\"tag\" href=\"/tag/inspirational/\" style=\"font-size: 26px\">inspirational</a>, <a class=\"tag\" href=\"/tag/life/\" style=\"font-size: 26px\">life</a>, <a class=\"tag\" href=\"/tag/humor/\" style=\"font-size: 24px\">humor</a>, <a class=\"tag\" href=\"/tag/books/\" style=\"font-size: 22px\">books</a>, <a class=\"tag\" href=\"/tag/reading/\" style=\"font-size: 14px\">reading</a>, <a class=\"tag\" href=\"/tag/friendship/\" style=\"font-size: 10px\">friendship</a>, <a class=\"tag\" href=\"/tag/friends/\" style=\"font-size: 8px\">friends</a>, <a class=\"tag\" href=\"/tag/truth/\" style=\"font-size: 8px\">truth</a>, <a class=\"tag\" href=\"/tag/simile/\" style=\"font-size: 6px\">simile</a>, <a href=\"https://www.goodreads.com/quotes\">GoodReads.com</a>, <a class=\"zyte\" href=\"https://www.zyte.com\">Zyte</a>]\n"
          ]
        }
      ]
    },
    {
      "cell_type": "code",
      "source": [
        "!pip install pytesseract\n",
        "!sudo apt install tesseract-ocr-por\n",
        "!pip install PyPDF2\n"
      ],
      "metadata": {
        "colab": {
          "base_uri": "https://localhost:8080/"
        },
        "id": "WY-kJd2sovPJ",
        "outputId": "9692e0c4-b455-4911-ab65-9b3f9f7959e8"
      },
      "execution_count": 17,
      "outputs": [
        {
          "output_type": "stream",
          "name": "stdout",
          "text": [
            "Requirement already satisfied: pytesseract in /usr/local/lib/python3.10/dist-packages (0.3.13)\n",
            "Requirement already satisfied: packaging>=21.3 in /usr/local/lib/python3.10/dist-packages (from pytesseract) (24.1)\n",
            "Requirement already satisfied: Pillow>=8.0.0 in /usr/local/lib/python3.10/dist-packages (from pytesseract) (10.4.0)\n",
            "Reading package lists... Done\n",
            "Building dependency tree... Done\n",
            "Reading state information... Done\n",
            "tesseract-ocr-por is already the newest version (1:4.00~git30-7274cfa-1.1).\n",
            "0 upgraded, 0 newly installed, 0 to remove and 49 not upgraded.\n"
          ]
        }
      ]
    },
    {
      "cell_type": "code",
      "source": [
        "#2 Extração de Texto de Imagens com OCR\n",
        "import pytesseract\n",
        "from PIL import Image\n",
        "\n",
        "# Carregar a imagem\n",
        "image = Image.open(\"fotoPraAtividade.png\")\n",
        "\n",
        "# Extrair texto da imagem\n",
        "text = pytesseract.image_to_string(image)\n",
        "print(\"Texto extraído:\", text)\n",
        "\n",
        "if not os.path.exists(\"textoExtraido.txt\"):\n",
        "    with open(\"textoExtraido.txt\", \"w\", encoding=\"utf-8\") as file:\n",
        "        file.write(str(text))\n",
        "        print(\"Texto extraído salvo em texto_extraido.txt\")\n",
        "\n",
        "# Leitura de arquivo HTML local\n",
        "with open(\"./textoExtraido.txt\", encoding=\"utf-8\") as file:\n",
        "    doc = BeautifulSoup(file, \"html.parser\")\n",
        "\n"
      ],
      "metadata": {
        "colab": {
          "base_uri": "https://localhost:8080/"
        },
        "id": "zkQrjK2ilnfa",
        "outputId": "1ecf97c8-ccab-4050-d66f-bdb5193f5774"
      },
      "execution_count": 16,
      "outputs": [
        {
          "output_type": "stream",
          "name": "stdout",
          "text": [
            "Requirement already satisfied: pytesseract in /usr/local/lib/python3.10/dist-packages (0.3.13)\n",
            "Requirement already satisfied: packaging>=21.3 in /usr/local/lib/python3.10/dist-packages (from pytesseract) (24.1)\n",
            "Requirement already satisfied: Pillow>=8.0.0 in /usr/local/lib/python3.10/dist-packages (from pytesseract) (10.4.0)\n",
            "Reading package lists... Done\n",
            "Building dependency tree... Done\n",
            "Reading state information... Done\n",
            "The following additional packages will be installed:\n",
            "  tesseract-ocr tesseract-ocr-eng tesseract-ocr-osd\n",
            "The following NEW packages will be installed:\n",
            "  tesseract-ocr tesseract-ocr-eng tesseract-ocr-osd tesseract-ocr-por\n",
            "0 upgraded, 4 newly installed, 0 to remove and 49 not upgraded.\n",
            "Need to get 5,673 kB of archives.\n",
            "After this operation, 17.6 MB of additional disk space will be used.\n",
            "Get:1 http://archive.ubuntu.com/ubuntu jammy/universe amd64 tesseract-ocr-eng all 1:4.00~git30-7274cfa-1.1 [1,591 kB]\n",
            "Get:2 http://archive.ubuntu.com/ubuntu jammy/universe amd64 tesseract-ocr-osd all 1:4.00~git30-7274cfa-1.1 [2,990 kB]\n",
            "Get:3 http://archive.ubuntu.com/ubuntu jammy/universe amd64 tesseract-ocr amd64 4.1.1-2.1build1 [236 kB]\n",
            "Get:4 http://archive.ubuntu.com/ubuntu jammy/universe amd64 tesseract-ocr-por all 1:4.00~git30-7274cfa-1.1 [856 kB]\n",
            "Fetched 5,673 kB in 1s (5,516 kB/s)\n",
            "debconf: unable to initialize frontend: Dialog\n",
            "debconf: (No usable dialog-like program is installed, so the dialog based frontend cannot be used. at /usr/share/perl5/Debconf/FrontEnd/Dialog.pm line 78, <> line 4.)\n",
            "debconf: falling back to frontend: Readline\n",
            "debconf: unable to initialize frontend: Readline\n",
            "debconf: (This frontend requires a controlling tty.)\n",
            "debconf: falling back to frontend: Teletype\n",
            "dpkg-preconfigure: unable to re-open stdin: \n",
            "Selecting previously unselected package tesseract-ocr-eng.\n",
            "(Reading database ... 123623 files and directories currently installed.)\n",
            "Preparing to unpack .../tesseract-ocr-eng_1%3a4.00~git30-7274cfa-1.1_all.deb ...\n",
            "Unpacking tesseract-ocr-eng (1:4.00~git30-7274cfa-1.1) ...\n",
            "Selecting previously unselected package tesseract-ocr-osd.\n",
            "Preparing to unpack .../tesseract-ocr-osd_1%3a4.00~git30-7274cfa-1.1_all.deb ...\n",
            "Unpacking tesseract-ocr-osd (1:4.00~git30-7274cfa-1.1) ...\n",
            "Selecting previously unselected package tesseract-ocr.\n",
            "Preparing to unpack .../tesseract-ocr_4.1.1-2.1build1_amd64.deb ...\n",
            "Unpacking tesseract-ocr (4.1.1-2.1build1) ...\n",
            "Selecting previously unselected package tesseract-ocr-por.\n",
            "Preparing to unpack .../tesseract-ocr-por_1%3a4.00~git30-7274cfa-1.1_all.deb ...\n",
            "Unpacking tesseract-ocr-por (1:4.00~git30-7274cfa-1.1) ...\n",
            "Setting up tesseract-ocr-por (1:4.00~git30-7274cfa-1.1) ...\n",
            "Setting up tesseract-ocr-eng (1:4.00~git30-7274cfa-1.1) ...\n",
            "Setting up tesseract-ocr-osd (1:4.00~git30-7274cfa-1.1) ...\n",
            "Setting up tesseract-ocr (4.1.1-2.1build1) ...\n",
            "Processing triggers for man-db (2.10.2-1) ...\n",
            "Texto extraído: \\/_ Gerando respostas para vocé...\n",
            "\n",
            "Sim, vocé pode usar a biblioteca pytesseract junto\n",
            "rot one Kol Rm ore Modem COMCORe (MILT UMAR CSICE\n",
            "um exemplo de como fazer isso:\n",
            "\n",
            "LSU CORmcIA tLe LSM CCUmE-oM 810 Co) Corer Leciotct UT)\n",
            "[rst\n",
            "\f\n",
            "Texto extraído salvo em texto_extraido.txt\n"
          ]
        }
      ]
    },
    {
      "cell_type": "code",
      "source": [
        "# 3. Implementação Completa de um Extrator de Dados Estruturados e Não Estruturados\n",
        "# Conexão com a página e extração do título\n",
        "response = requests.get(\"https://quotes.toscrape.com/\")\n",
        "doc = BeautifulSoup(response.content, \"html.parser\")\n",
        "title = doc.title.string\n",
        "\n",
        "print(f\"Titulo do site: ${title}\")\n",
        "\n",
        "\n",
        "\n",
        "\n",
        "\n",
        "from PyPDF2 import PdfReader\n",
        "\n",
        "reader = PdfReader(\"C-Jovem-Edital-para-alunos-2024-ciclo-2-.pdf\")\n",
        "# for page in reader.pages:\n",
        "#     print(page.extract_text())\n",
        "print(f\"Título do PDF: {'Não possui Título' if reader.metadata.title is None else reader.metadata.title}\")\n",
        "print(\"Primeira linha do arquivo pdf: \" + reader.pages[0].extract_text().splitlines()[0])\n",
        "\n",
        "\n",
        "\n",
        "\n",
        "\n",
        "\n",
        "\n",
        "# Carregar a imagem\n",
        "image = Image.open(\"fotoPraAtividade.png\")\n",
        "\n",
        "# Extrair texto da imagem\n",
        "text = pytesseract.image_to_string(image)\n",
        "print(\"Primeira Linha da Imagem:\" + text.splitlines()[0])\n",
        "\n",
        "\n",
        "\n",
        "\n",
        "\n"
      ],
      "metadata": {
        "colab": {
          "base_uri": "https://localhost:8080/"
        },
        "collapsed": true,
        "id": "dRKnfYSVpTJN",
        "outputId": "b3116a34-e585-45b1-924a-eae0dc801b16"
      },
      "execution_count": 32,
      "outputs": [
        {
          "output_type": "stream",
          "name": "stdout",
          "text": [
            "Titulo do site: $Quotes to Scrape\n",
            "Título do PDF: Não possui Título\n",
            "Primeira linha do arquivo pdf: Governo do Estado do Ceará  \n",
            "Primeira Linha da Imagem:\\/_ Gerando respostas para vocé...\n"
          ]
        }
      ]
    }
  ]
}