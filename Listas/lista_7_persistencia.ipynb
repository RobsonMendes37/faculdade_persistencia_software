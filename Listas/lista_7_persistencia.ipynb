{
  "nbformat": 4,
  "nbformat_minor": 0,
  "metadata": {
    "colab": {
      "provenance": []
    },
    "kernelspec": {
      "name": "python3",
      "display_name": "Python 3"
    },
    "language_info": {
      "name": "python"
    }
  },
  "cells": [
    {
      "cell_type": "code",
      "execution_count": 1,
      "metadata": {
        "id": "F4wiQEhAOPxg"
      },
      "outputs": [],
      "source": [
        "from cryptography.hazmat.primitives.asymmetric import rsa\n",
        "from cryptography.hazmat.primitives.asymmetric.padding import OAEP, MGF1\n",
        "from cryptography.hazmat.primitives.hashes import SHA256\n",
        "import hashlib\n",
        "from pathlib import Path"
      ]
    },
    {
      "cell_type": "code",
      "source": [
        "from cryptography.hazmat.primitives.asymmetric import rsa\n",
        "from cryptography.hazmat.primitives.asymmetric.padding import OAEP, MGF1\n",
        "from cryptography.hazmat.primitives.hashes import SHA256\n",
        "import hashlib\n",
        "from pathlib import Path\n",
        "\n",
        "\n",
        "# Gerar chaves assimétricas\n",
        "private_key = rsa.generate_private_key(\n",
        "    public_exponent=65537,\n",
        "    key_size=2048,\n",
        ")\n",
        "public_key = private_key.public_key()\n",
        "\n",
        "\n",
        "# Função para criptografar com chave pública\n",
        "def encrypt_asymmetric(file_path, public_key):\n",
        "    with open(file_path, 'rb') as f:\n",
        "        file_data = f.read()\n",
        "    encrypted_data = public_key.encrypt(\n",
        "        file_data,\n",
        "        OAEP(mgf=MGF1(algorithm=SHA256()), algorithm=SHA256(), label=None)\n",
        "    )\n",
        "    encrypted_file = f\"{file_path}.enc\"\n",
        "    with open(encrypted_file, 'wb') as f:\n",
        "        f.write(encrypted_data)\n",
        "    print(f\"Arquivo criptografado: {encrypted_file}\")\n",
        "    return encrypted_file\n",
        "\n",
        "\n",
        "# Função para decriptar com chave privada\n",
        "def decrypt_asymmetric(file_path, private_key):\n",
        "    with open(file_path, 'rb') as f:\n",
        "        encrypted_data = f.read()\n",
        "    decrypted_data = private_key.decrypt(\n",
        "        encrypted_data,\n",
        "        OAEP(mgf=MGF1(algorithm=SHA256()), algorithm=SHA256(), label=None)\n",
        "    )\n",
        "    decrypted_file = file_path.replace('.enc', '.dec')\n",
        "    with open(decrypted_file, 'wb') as f:\n",
        "        f.write(decrypted_data)\n",
        "    print(f\"Arquivo decriptado: {decrypted_file}\")\n",
        "    return decrypted_file\n",
        "\n",
        "\n",
        "# Função para calcular hash SHA-256\n",
        "def calculate_sha256(file_path):\n",
        "    with open(file_path, 'rb') as f:\n",
        "        file_data = f.read()\n",
        "    sha256_hash = hashlib.sha256(file_data).hexdigest()\n",
        "    print(f\"SHA-256 do arquivo {file_path}: {sha256_hash}\")\n",
        "    return sha256_hash\n",
        "\n"
      ],
      "metadata": {
        "id": "DHNeVuoeP_Gi"
      },
      "execution_count": 3,
      "outputs": []
    },
    {
      "cell_type": "code",
      "source": [
        "\n",
        "# Função principal para executar o processo completo\n",
        "def main():\n",
        "    # Caminho do arquivo original\n",
        "    file_path = \"arquivo.txt\"\n",
        "\n",
        "    # Gerar arquivo de exemplo (remova se já tiver um arquivo)\n",
        "    with open(file_path, 'w') as f:\n",
        "        f.write(\"Este é um teste de encriptação e decriptação.\")\n",
        "\n",
        "    print(\"1. Iniciando a criptografia...\")\n",
        "    encrypted_file = encrypt_asymmetric(file_path, public_key)\n",
        "\n",
        "    print(\"\\n2. Iniciando a decriptação...\")\n",
        "    decrypted_file = decrypt_asymmetric(encrypted_file, private_key)\n",
        "\n",
        "    print(\"\\n3. Calculando hashes para verificação de integridade...\")\n",
        "    original_hash = calculate_sha256(file_path)\n",
        "    decrypted_hash = calculate_sha256(decrypted_file)\n",
        "\n",
        "    # Comparação de hashes\n",
        "    if original_hash == decrypted_hash:\n",
        "        print(\"\\nOs hashes correspondem. A integridade foi mantida.\")\n",
        "    else:\n",
        "        print(\"\\nOs hashes não correspondem. O arquivo foi alterado.\")\n",
        "\n",
        "\n",
        "if __name__ == \"__main__\":\n",
        "    main()\n"
      ],
      "metadata": {
        "colab": {
          "base_uri": "https://localhost:8080/"
        },
        "id": "8BfE5eqMUdRI",
        "outputId": "71b1cc9a-9ec7-4bec-aea6-099693fb2ac8"
      },
      "execution_count": 4,
      "outputs": [
        {
          "output_type": "stream",
          "name": "stdout",
          "text": [
            "1. Iniciando a criptografia...\n",
            "Arquivo criptografado: arquivo.txt.enc\n",
            "\n",
            "2. Iniciando a decriptação...\n",
            "Arquivo decriptado: arquivo.txt.dec\n",
            "\n",
            "3. Calculando hashes para verificação de integridade...\n",
            "SHA-256 do arquivo arquivo.txt: a7bb03bd6decf141935454142b5a5bf4a9a3f1590cd13c848aca8cad184f99a9\n",
            "SHA-256 do arquivo arquivo.txt.dec: a7bb03bd6decf141935454142b5a5bf4a9a3f1590cd13c848aca8cad184f99a9\n",
            "\n",
            "Os hashes correspondem. A integridade foi mantida.\n"
          ]
        }
      ]
    },
    {
      "cell_type": "code",
      "source": [],
      "metadata": {
        "id": "9--fIjmQVGH-"
      },
      "execution_count": null,
      "outputs": []
    }
  ]
}