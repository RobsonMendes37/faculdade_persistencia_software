{
  "nbformat": 4,
  "nbformat_minor": 0,
  "metadata": {
    "colab": {
      "provenance": []
    },
    "kernelspec": {
      "name": "python3",
      "display_name": "Python 3"
    },
    "language_info": {
      "name": "python"
    }
  },
  "cells": [
    {
      "cell_type": "code",
      "execution_count": null,
      "metadata": {
        "id": "5TBivQM7tBxV"
      },
      "outputs": [],
      "source": [
        "#  Criar um programa que leia e processe arquivos de texto, escreva os resultados em um novo arquivo e compacte o arquivo de saída em um ZIP."
      ]
    },
    {
      "cell_type": "code",
      "source": [
        "# Criar um programa que leia e processe arquivos de texto,\n",
        "# escreva os resultados em um novo arquivo e\n",
        "# compacte o arquivo de saída em um ZIP.\n",
        "\n",
        "import os\n",
        "import shutil\n",
        "\n",
        "arquivos = [\n",
        "    '/content/lista1-texto(2).txt',\n",
        "    '/content/lista1-texto(3).txt',\n",
        "    '/content/lista1-texto.txt'\n",
        "]\n",
        "\n",
        "# Criar a pasta \"lista2\" so se ela não existir\n",
        "if not os.path.exists('/content/lista2'):\n",
        "    os.makedirs('/content/lista2')\n",
        "\n",
        "# Mover os arquivos para a pasta \"lista2\"\n",
        "for arquivo in arquivos:\n",
        "  if os.path.exists(arquivo):\n",
        "    shutil.move(arquivo, '/content/lista2')"
      ],
      "metadata": {
        "id": "aLaCf7CFwaeM"
      },
      "execution_count": 25,
      "outputs": []
    },
    {
      "cell_type": "code",
      "source": [
        "lista2_path = 'lista2'\n",
        "\n",
        "# Lista para armazenar os nomes dos arquivos\n",
        "nomes_arquivos = []\n",
        "\n",
        "# Verificar se a pasta existe\n",
        "if os.path.exists(lista2_path):\n",
        "  # Percorrer os arquivos na pasta\n",
        "  for filename in os.listdir(lista2_path):\n",
        "    # Criar o caminho completo do arquivo\n",
        "    file_path = os.path.join(lista2_path, filename)\n",
        "    # Verificar se é um arquivo (não um diretório)\n",
        "    if os.path.isfile(file_path):\n",
        "      # Adicionar o nome do arquivo à lista\n",
        "      nomes_arquivos.append(filename)\n",
        "\n",
        "\n",
        "# nomes_arquivos"
      ],
      "metadata": {
        "id": "M-UHaKQSxC9z"
      },
      "execution_count": null,
      "outputs": []
    },
    {
      "cell_type": "code",
      "source": [
        "# Define o diretório onde estão os arquivos\n",
        "folder_path = \"lista2\"\n",
        "\n",
        "# Lista para armazenar os nomes dos arquivos lidos\n",
        "arquivosLidos = []"
      ],
      "metadata": {
        "id": "rsfvWbcZ8XZZ"
      },
      "execution_count": null,
      "outputs": []
    },
    {
      "cell_type": "code",
      "source": [
        "conteudo_arquivo=[]\n",
        "\n",
        "# Itera sobre cada arquivo dentro da pasta\n",
        "for file_name in os.listdir(folder_path):\n",
        "    # faz o Caminho completo do arquivo\n",
        "    file_path = os.path.join(folder_path, file_name)\n",
        "\n",
        "    # Adiciona o nome do arquivo na lista de arquivos lidos\n",
        "    arquivosLidos.append(file_name)\n",
        "\n",
        "\n",
        "    # Abre o arquivo e lê as linhas\n",
        "    with open(file_path, 'r', encoding='utf-8') as file:\n",
        "        lines = file.readlines()\n",
        "\n",
        "    # Remove linhas em branco e junta as restantes\n",
        "    lines = [line.strip() for line in lines if line.strip()]\n",
        "    text = \"\".join(lines)\n",
        "\n",
        "    # Conta as palavras e os caracteres\n",
        "    word_count = len(text.split())\n",
        "    char_count = len(text)\n",
        "\n",
        "    # Exibe as informações\n",
        "    print(f\"Arquivo: {file_name}\")\n",
        "    print(f\"Linhas não vazias: {len(lines)}\")\n",
        "    print(f\"Palavras: {word_count}\")\n",
        "    print(f\"Caracteres (sem espaços): {char_count}\\n\")\n",
        "\n",
        "    conteudo_arquivo.append(f\"\"\"Arquivo: {file_name}\n",
        "    Linhas não vazias: {len(lines)}\n",
        "    Palavras: {word_count}\n",
        "    Caracteres (sem espaços): {char_count}\n",
        "    \"\"\")\n",
        "# Exibe os arquivos lidos\n",
        "print(\"Arquivos lidos:\", arquivosLidos)\n"
      ],
      "metadata": {
        "colab": {
          "base_uri": "https://localhost:8080/"
        },
        "id": "8T8w7cbZzjFP",
        "outputId": "e1e8da43-61a0-4ad3-ef75-84f9ec279a7a"
      },
      "execution_count": null,
      "outputs": [
        {
          "output_type": "stream",
          "name": "stdout",
          "text": [
            "Arquivo: lista1-texto(3).txt\n",
            "Linhas não vazias: 4\n",
            "Palavras: 4\n",
            "Caracteres (sem espaços): 34\n",
            "\n",
            "Arquivo: lista1-texto.txt\n",
            "Linhas não vazias: 4\n",
            "Palavras: 4\n",
            "Caracteres (sem espaços): 42\n",
            "\n",
            "Arquivo: lista1-texto(2).txt\n",
            "Linhas não vazias: 4\n",
            "Palavras: 4\n",
            "Caracteres (sem espaços): 37\n",
            "\n",
            "Arquivos lidos: ['lista1-texto(3).txt', 'lista1-texto.txt', 'lista1-texto(2).txt', 'lista1-texto(3).txt', 'lista1-texto.txt', 'lista1-texto(2).txt', 'lista1-texto(3).txt', 'lista1-texto.txt', 'lista1-texto(2).txt']\n"
          ]
        }
      ]
    },
    {
      "cell_type": "code",
      "source": [
        "with open(\"consolidado.txt\", \"w\", encoding='utf-8') as file:\n",
        "    for item in conteudo_arquivo:\n",
        "        file.write(item + \"\\n\")\n",
        "\n",
        "with open(\"consolidado.txt\", 'r', encoding='utf-8') as file:\n",
        "    for line in file:\n",
        "      print(line)"
      ],
      "metadata": {
        "colab": {
          "base_uri": "https://localhost:8080/"
        },
        "id": "XymuUV-U9240",
        "outputId": "4491c4dc-e5ae-4cde-8850-177e764857e4"
      },
      "execution_count": null,
      "outputs": [
        {
          "output_type": "stream",
          "name": "stdout",
          "text": [
            "Arquivo: lista1-texto(3).txt\n",
            "\n",
            "    Linhas não vazias: 4\n",
            "\n",
            "    Palavras: 4\n",
            "\n",
            "    Caracteres (sem espaços): 34\n",
            "\n",
            "    \n",
            "\n",
            "Arquivo: lista1-texto.txt\n",
            "\n",
            "    Linhas não vazias: 4\n",
            "\n",
            "    Palavras: 4\n",
            "\n",
            "    Caracteres (sem espaços): 42\n",
            "\n",
            "    \n",
            "\n",
            "Arquivo: lista1-texto(2).txt\n",
            "\n",
            "    Linhas não vazias: 4\n",
            "\n",
            "    Palavras: 4\n",
            "\n",
            "    Caracteres (sem espaços): 37\n",
            "\n",
            "    \n",
            "\n"
          ]
        }
      ]
    },
    {
      "cell_type": "code",
      "source": [
        "#faz o zip\n",
        "import zipfile\n",
        "\n",
        "with zipfile.ZipFile('consolidado.zip', 'w') as myzip:\n",
        "    myzip.write('consolidado.txt')\n",
        "\n",
        "print(\"Arquivo consolidado.txt compactado em consolidado.zip\")"
      ],
      "metadata": {
        "colab": {
          "base_uri": "https://localhost:8080/"
        },
        "id": "FFdJTFxYAxN_",
        "outputId": "fdcf7987-57f2-4f95-8d56-aa875088def6"
      },
      "execution_count": 24,
      "outputs": [
        {
          "output_type": "stream",
          "name": "stdout",
          "text": [
            "Arquivo consolidado.txt compactado em consolidado.zip\n"
          ]
        }
      ]
    },
    {
      "cell_type": "code",
      "source": [],
      "metadata": {
        "id": "U1Nr2ZNuA-FD"
      },
      "execution_count": null,
      "outputs": []
    }
  ]
}