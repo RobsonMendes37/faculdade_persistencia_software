{
  "nbformat": 4,
  "nbformat_minor": 0,
  "metadata": {
    "colab": {
      "provenance": []
    },
    "kernelspec": {
      "name": "python3",
      "display_name": "Python 3"
    },
    "language_info": {
      "name": "python"
    }
  },
  "cells": [
    {
      "cell_type": "code",
      "source": [
        "import yaml\n",
        "import json\n",
        "import logging\n",
        "from datetime import datetime\n",
        "\n",
        "# Função para carregar configurações do arquivo YAML\n",
        "def load_config(config_file):\n",
        "    with open(config_file, 'r') as file:\n",
        "        return yaml.safe_load(file)\n",
        "\n",
        "# Função para configurar o sistema de logging\n",
        "def configure_logging(logging_config):\n",
        "    logging.basicConfig(\n",
        "        level=getattr(logging, logging_config[\"level\"]),\n",
        "        filename=logging_config[\"file\"],\n",
        "        format=logging_config[\"format\"]\n",
        "    )\n",
        "\n",
        "# Função para carregar dados JSON\n",
        "def load_json(data_file):\n",
        "    with open(data_file, 'r') as file:\n",
        "        return json.load(file)\n",
        "\n",
        "# Função principal para processar dados\n",
        "def main():\n",
        "    # Carregar configurações\n",
        "    config = load_config('config.yaml')\n",
        "\n",
        "    # Configurar logging\n",
        "    configure_logging(config[\"logging\"])\n",
        "\n",
        "    # Registrar início do programa\n",
        "    logging.info(\"Iniciando o programa.\")\n",
        "\n",
        "    # Carregar dados do arquivo JSON\n",
        "    data_file = config[\"data\"][\"file\"]\n",
        "    try:\n",
        "        data = load_json(data_file)\n",
        "        logging.info(f\"Arquivo JSON '{data_file}' carregado com sucesso.\")\n",
        "    except Exception as e:\n",
        "        logging.error(f\"Erro ao carregar o arquivo JSON '{data_file}': {e}\")\n",
        "        return\n",
        "\n",
        "    # Processar registros\n",
        "    for record in data:\n",
        "        try:\n",
        "            if record[\"age\"] is None:\n",
        "                raise ValueError(f\"Dado inválido: {record}\")\n",
        "            logging.info(f\"Processando registro: {record}\")\n",
        "        except Exception as e:\n",
        "            logging.warning(f\"Erro no registro: {e}\")\n",
        "\n",
        "    logging.info(\"Processamento concluído.\")\n",
        "\n",
        "if __name__ == \"__main__\":\n",
        "    main()\n"
      ],
      "metadata": {
        "colab": {
          "base_uri": "https://localhost:8080/"
        },
        "id": "2hV3nZOwZnz8",
        "outputId": "d1c5d8fe-2873-48ab-f557-bb517284b0c4"
      },
      "execution_count": 6,
      "outputs": [
        {
          "output_type": "stream",
          "name": "stderr",
          "text": [
            "WARNING:root:Erro no registro: Dado inválido: {'id': 3, 'name': 'Bob', 'age': None}\n"
          ]
        }
      ]
    },
    {
      "cell_type": "code",
      "source": [],
      "metadata": {
        "id": "gej7cJ6vZnSE"
      },
      "execution_count": null,
      "outputs": []
    },
    {
      "cell_type": "code",
      "execution_count": null,
      "metadata": {
        "id": "a3ZQV6Y3Y71I"
      },
      "outputs": [],
      "source": []
    }
  ]
}